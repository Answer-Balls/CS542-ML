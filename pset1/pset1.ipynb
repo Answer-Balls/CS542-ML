{
 "cells": [
  {
   "cell_type": "markdown",
   "metadata": {},
   "source": [
    "# Problem Set 1: Linear Regression\n",
    "\n",
    "To run and solve this assignment, one must have a working IPython Notebook installation. The easiest way to set it up for both Windows and Linux is to install [Anaconda](https://www.continuum.io/downloads). Then save this file to your computer, run Anaconda and choose this file in Anaconda's file explorer. Use `Python 3` version. Below statements assume that you have already followed these instructions. If you are new to Python or its scientific library, Numpy, there are some nice tutorials [here](https://www.learnpython.org/) and [here](http://www.scipy-lectures.org/).\n",
    "\n",
    "To run code in a cell or to render [Markdown](https://en.wikipedia.org/wiki/Markdown)+[LaTeX](https://en.wikipedia.org/wiki/LaTeX) press `Ctr+Enter` or `[>|]`(like \"play\") button above. To edit any code or text cell double click on its content. To change cell type, choose \"Markdown\" or \"Code\" in the drop-down menu above. Here are some useful resources for [Markdown guide](https://www.markdownguide.org/basic-syntax/) and [LaTeX tutorial](https://www.overleaf.com/learn/latex/Learn_LaTeX_in_30_minutes) if you are not familiar with the basic syntax.\n",
    "\n",
    "If certain output is given for some cells, that means that you are expected to get similar results.\n",
    "\n",
    "Only **PDF** files are accepted for ps1 submission. To print this notebook to a pdf file, you can go to \"File\" -> \"Download as\" -> \"PDF via LaTex(.pdf)\" or simply use \"print\" in browser. \n",
    "\n",
    "Total: 185 points."
   ]
  },
  {
   "cell_type": "markdown",
   "metadata": {},
   "source": [
    "### 1. Numpy Tutorial\n",
    "**1\\.1 [5pt]**\n",
    "Modify the cell below to return a 5x5 matrix of ones. Put some code there and press `Ctrl+Enter` to execute contents of the cell. You should see something like the output above. [[1]](https://docs.scipy.org/doc/numpy-1.13.0/user/basics.creation.html#arrays-creation) [[2]](https://docs.scipy.org/doc/numpy-1.13.0/reference/routines.array-creation.html#routines-array-creation)"
   ]
  },
  {
   "cell_type": "code",
   "execution_count": 1,
   "metadata": {
    "jupyter": {
     "outputs_hidden": false
    }
   },
   "outputs": [
    {
     "name": "stdout",
     "output_type": "stream",
     "text": [
      "[[1. 1. 1. 1. 1.]\n",
      " [1. 1. 1. 1. 1.]\n",
      " [1. 1. 1. 1. 1.]\n",
      " [1. 1. 1. 1. 1.]\n",
      " [1. 1. 1. 1. 1.]]\n"
     ]
    }
   ],
   "source": [
    "import numpy as np\n",
    "from sklearn import preprocessing\n",
    "import matplotlib.pyplot as plt\n",
    "\n",
    "sample = np.ones((5,5),dtype = float)\n",
    "\n",
    "print(sample)\n"
   ]
  },
  {
   "cell_type": "markdown",
   "metadata": {},
   "source": [
    "**1.2 [5pt]** \n",
    "Vectorizing your code is very important to get results in a reasonable time. Let A be a 10x10 matrix and x be a 10-element column vector. Your friend writes the following code. How would you vectorize this code to run without any for loops? Compare execution speed for different values of `n` with [`%timeit`](http://ipython.readthedocs.io/en/stable/interactive/magics.html#magic-timeit)."
   ]
  },
  {
   "cell_type": "code",
   "execution_count": 2,
   "metadata": {
    "jupyter": {
     "outputs_hidden": false
    }
   },
   "outputs": [
    {
     "name": "stdout",
     "output_type": "stream",
     "text": [
      "[[2.15631321]\n",
      " [3.25411493]\n",
      " [2.89031453]\n",
      " [2.82268099]\n",
      " [2.98111108]\n",
      " [2.67606369]\n",
      " [2.34242693]\n",
      " [2.96335072]\n",
      " [2.40192092]\n",
      " [2.1423447 ]]\n"
     ]
    }
   ],
   "source": [
    "n = 10\n",
    "def compute_something(A, x):\n",
    "    v = np.zeros((n, 1))\n",
    "    for i in range(n):\n",
    "        for j in range(n):\n",
    "            v[i] += A[i, j] * x[j]\n",
    "    return v\n",
    "            \n",
    "A = np.random.rand(n, n)\n",
    "x = np.random.rand(n, 1)\n",
    "print(compute_something(A, x))"
   ]
  },
  {
   "cell_type": "code",
   "execution_count": 3,
   "metadata": {
    "jupyter": {
     "outputs_hidden": false
    }
   },
   "outputs": [
    {
     "name": "stdout",
     "output_type": "stream",
     "text": [
      "[[2.15631321]\n",
      " [3.25411493]\n",
      " [2.89031453]\n",
      " [2.82268099]\n",
      " [2.98111108]\n",
      " [2.67606369]\n",
      " [2.34242693]\n",
      " [2.96335072]\n",
      " [2.40192092]\n",
      " [2.1423447 ]]\n"
     ]
    }
   ],
   "source": [
    "def vectorized(A, x):\n",
    "    return (A.dot(x))\n",
    "\n",
    "print(vectorized(A, x))\n",
    "assert np.max(abs(vectorized(A, x) - compute_something(A, x))) < 1e-3"
   ]
  },
  {
   "cell_type": "code",
   "execution_count": 4,
   "metadata": {
    "jupyter": {
     "outputs_hidden": false
    }
   },
   "outputs": [
    {
     "name": "stdout",
     "output_type": "stream",
     "text": [
      "68.4 µs ± 3.55 µs per loop (mean ± std. dev. of 7 runs, 5 loops each)\n",
      "The slowest run took 60.45 times longer than the fastest. This could mean that an intermediate result is being cached.\n",
      "10.3 µs ± 13.3 µs per loop (mean ± std. dev. of 7 runs, 5 loops each)\n",
      "---\n",
      "274 µs ± 27 µs per loop (mean ± std. dev. of 7 runs, 5 loops each)\n",
      "The slowest run took 9.46 times longer than the fastest. This could mean that an intermediate result is being cached.\n",
      "1.41 µs ± 1.87 µs per loop (mean ± std. dev. of 7 runs, 5 loops each)\n",
      "---\n",
      "24.4 ms ± 327 µs per loop (mean ± std. dev. of 7 runs, 5 loops each)\n",
      "The slowest run took 19.50 times longer than the fastest. This could mean that an intermediate result is being cached.\n",
      "11.8 µs ± 11.3 µs per loop (mean ± std. dev. of 7 runs, 5 loops each)\n",
      "---\n",
      "609 ms ± 1.69 ms per loop (mean ± std. dev. of 7 runs, 5 loops each)\n",
      "The slowest run took 7.24 times longer than the fastest. This could mean that an intermediate result is being cached.\n",
      "86.3 µs ± 88.4 µs per loop (mean ± std. dev. of 7 runs, 5 loops each)\n",
      "---\n"
     ]
    }
   ],
   "source": [
    "for n in [5, 10, 100, 500]:\n",
    "    A = np.random.rand(n, n)\n",
    "    x = np.random.rand(n, 1)\n",
    "    %timeit -n 5 compute_something(A, x)\n",
    "    %timeit -n 5 vectorized(A, x)\n",
    "    print('---')"
   ]
  },
  {
   "cell_type": "markdown",
   "metadata": {},
   "source": [
    "### 2. Linear regression with one variable\n",
    "\n",
    "In this part of this exercise, you will implement linear regression with one variable to predict profits for a food truck. Suppose you are the CEO of a restaurant franchise and are considering different cities for opening a new outlet. The chain already has trucks in various cities and you have data for profits and populations from the cities. You would like to use this data to help you select which city to expand to next. The file ex1data.txt contains the dataset for our linear regression problem. The first column is the population of a city and the second column is the profit of a food truck in that city. A negative value for profit indicates a loss.\n",
    "\n",
    "**2.1 [10pt]** Get a plot similar to below\n",
    ": [[1]](https://matplotlib.org/devdocs/api/_as_gen/matplotlib.pyplot.scatter.html) [[2]](https://matplotlib.org/api/pyplot_api.html?highlight=xlim#matplotlib.pyplot.xlim) [[3]](https://matplotlib.org/api/pyplot_api.html?highlight=matplotlib%20pyplot%20xlabel#matplotlib.pyplot.xlabel)\n",
    "\n",
    "Before starting on any task, it is often useful to understand the data by visualizing it. For this dataset, you can use a scatter plot to visualize the data, since it has only two properties to plot (profit and population). Many other problems that you will encounter in real life are multi-dimensional and can’t be plotted on a 2-d plot."
   ]
  },
  {
   "cell_type": "code",
   "execution_count": 5,
   "metadata": {
    "jupyter": {
     "outputs_hidden": false
    }
   },
   "outputs": [
    {
     "name": "stdout",
     "output_type": "stream",
     "text": [
      "(97, 1) (97, 1) 97\n",
      "[[6.1101]\n",
      " [5.5277]\n",
      " [8.5186]\n",
      " [7.0032]\n",
      " [5.8598]\n",
      " [8.3829]\n",
      " [7.4764]\n",
      " [8.5781]\n",
      " [6.4862]\n",
      " [5.0546]] \n",
      " [[17.592 ]\n",
      " [ 9.1302]\n",
      " [13.662 ]\n",
      " [11.854 ]\n",
      " [ 6.8233]\n",
      " [11.886 ]\n",
      " [ 4.3483]\n",
      " [12.    ]\n",
      " [ 6.5987]\n",
      " [ 3.8166]]\n"
     ]
    },
    {
     "data": {
      "image/png": "[encoded data removed]",
      "text/plain": [
       "<Figure size 432x288 with 1 Axes>"
      ]
     },
     "metadata": {
      "needs_background": "light"
     },
     "output_type": "display_data"
    }
   ],
   "source": [
    "data = np.loadtxt('ex1data1.txt', delimiter=',')\n",
    "X, y = data[:, 0, np.newaxis], data[:, 1, np.newaxis]\n",
    "n = data.shape[0]\n",
    "print(X.shape, y.shape, n)\n",
    "print(X[:10], '\\n', y[:10])\n",
    "\n",
    "plt.scatter(X,y)\n",
    "plt.show()"
   ]
  },
  {
   "cell_type": "markdown",
   "metadata": {},
   "source": [
    "**2.2** Gradient Descent\n",
    "\n",
    "In this part, you will fit the linear regression parameter $\\theta$ to our dataset using gradient descent.\n",
    "\n",
    "The objective of linear regression is to minimize the cost function\n",
    "$$ J(\\theta) = \\frac{1}{2m} \\sum_{i = 1}^{m} \\big(h(x^{(i)}; \\theta) - y^{(i)}\\big)^2$$\n",
    "where the hypothesis $h(x;\\theta)$ is given by the linear model ($x'$ has an additional fake feature always equal to '`1`')\n",
    "$$ h(x;\\theta) = \\theta^T x' = \\theta_0 + \\theta_1 x$$\n",
    "\n",
    "Recall that the parameters of your model are the $\\theta_j$ values. These are the values you will adjust to minimize cost J(θ). One way to do this is to use the gradient descent\n",
    "algorithm. In batch gradient descent algorithm, each iteration performs the update.\n",
    "\n",
    "$$ \\theta_j^{(k+1)} = \\theta_j^{(k)} - \\eta \\frac{1}{m} \\sum_i \\big(h(x^{(i)}; \\theta) - y^{(i)}\\big) x^{(i)}_j $$\n",
    "With each step of gradient descent, your parameter $\\theta_j$ come closer to the optimal values\n",
    "that will achieve the lowest cost J(θ).\n",
    "\n",
    "**2.2.1** **[5pt]** Where does this update rule comes from?\n",
    "\n",
    "**Solution** \n",
    "\n",
    "In the gradient descent, the $\\theta$ is updated iteratively to minimize the cost function until converge. Every time we update the $\\theta$ according to the gradient: \n",
    "\n",
    "$$ \\theta_{j}^{(k+1)} = \\theta_j^{(k)} - \\eta \\frac{\\partial}{\\partial{\\theta_j}}J(\\theta) \\\\ \n",
    "= \\theta_j^{(k)} - \\eta \\frac{\\partial}{\\partial{\\theta_j}} \\frac{1}{2m} \\sum_{i = 1}^{m} \\big(h(x^{(i)}; \\theta) - y^{(i)}\\big)^2 \\\\ = \\theta_j^{(k)} - \\eta \\frac{1}{m} \\sum_i \\big(h(x^{(i)}; \\theta) - y^{(i)}\\big) \\frac{\\partial}{\\partial{\\theta_j}}h(x^{(i)}; \\theta) \\\\ = \\theta_j^{(k)} - \\eta \\frac{1}{m} \\sum_i \\big(h(x^{(i)}; \\theta) - y^{(i)}\\big) x^{(i)}_j\n",
    "$$\n",
    "\n",
    "\n",
    "\n",
    "**2.2.2** **[30pt]** Cost Implementation\n",
    "\n",
    "As you perform gradient descent to learn to minimize the cost function, it is helpful to monitor the convergence by computing the cost. In this section, you will implement a function to calculate $J(\\theta)$ so you can check the convergence of your gradient descent implementation.\n",
    "\n",
    "In the following lines, we add another dimension to our data to accommodate the intercept term and compute the prediction and the loss. As you are doing this, remember that the variables X and y are not scalar values, but matrices whose rows represent the examples from the training set. In order to get $x'$ [add a column](https://docs.scipy.org/doc/numpy/reference/generated/numpy.insert.html) of ones to the data matrix `X`.\n",
    "\n",
    "You should expect to see a cost of approximately 32."
   ]
  },
  {
   "cell_type": "code",
   "execution_count": 6,
   "metadata": {
    "jupyter": {
     "outputs_hidden": false
    }
   },
   "outputs": [
    {
     "name": "stdout",
     "output_type": "stream",
     "text": [
      "32.072733877455676\n"
     ]
    }
   ],
   "source": [
    "# assertions below are true only for this \n",
    "# specific case and are given to ease debugging!\n",
    "\n",
    "def add_column(X):\n",
    "    assert len(X.shape) == 2 and X.shape[1] == 1\n",
    "    I = np.ones((X.shape[0],1), dtype = float)\n",
    "    X = np.insert(X, [0], I, axis=1)\n",
    "    return X\n",
    "\n",
    "def predict(X, theta):\n",
    "    \"\"\" Computes h(x; theta) \"\"\"\n",
    "    assert len(X.shape) == 2 and X.shape[1] == 1\n",
    "    assert theta.shape == (2, 1)\n",
    "    \n",
    "    X_prime = add_column(X)\n",
    "    pred = X_prime.dot(theta)\n",
    "    \n",
    "    return pred\n",
    "\n",
    "def loss(X, y, theta):\n",
    "    assert X.shape == (n, 1)\n",
    "    assert y.shape == (n, 1)\n",
    "    assert theta.shape == (2, 1)\n",
    "    \n",
    "    X_prime = add_column(X)\n",
    "    assert X_prime.shape == (n, 2)\n",
    "    loss = (X_prime.dot(theta) - y).T.dot((X_prime.dot(theta) - y))/(2*n)\n",
    "    return loss[0][0]\n",
    "\n",
    "theta_init = np.zeros((2, 1))\n",
    "print(loss(X, y, theta_init))"
   ]
  },
  {
   "cell_type": "markdown",
   "metadata": {},
   "source": [
    "**2.2.3** **[40pt]** GD Implementation\n",
    "\n",
    "Next, you will implement gradient descent. The loop structure has been written for you, and you only need to supply the updates to $\\theta$ within each iteration. \n",
    "\n",
    "As you program, make sure you understand what you are trying to optimize and what is being updated. Keep in mind that the cost is parameterized by the vector $\\theta$ not X and y. That is, we minimize the value of $J(\\theta)$ by changing the values of the vector $\\theta$, not by changing X or y.\n",
    "\n",
    "A good way to verify that gradient descent is working correctly is to look at the value of  and check that it is decreasing with each step. Your value of $J(\\theta)$ should never increase, and should converge to a steady value by the end of the algorithm.  Another way of making sure your gradient estimate is correct is to check it againts a [finite difference](https://en.wikipedia.org/wiki/Finite_difference) approximation.\n",
    "\n",
    "We also initialize the initial parameters to 0 and the learning rate alpha to `0.01`. "
   ]
  },
  {
   "cell_type": "code",
   "execution_count": 7,
   "metadata": {
    "jupyter": {
     "outputs_hidden": false
    }
   },
   "outputs": [
    {
     "name": "stdout",
     "output_type": "stream",
     "text": [
      "max grad comp error 5.6789581272198575e-05\n",
      "estimated theta value [-3.63029144  1.16636235]\n",
      "resulting loss 4.483388256587726\n"
     ]
    },
    {
     "data": {
      "image/png": "[encoded data removed]",
      "text/plain": [
       "<Figure size 432x288 with 1 Axes>"
      ]
     },
     "metadata": {
      "needs_background": "light"
     },
     "output_type": "display_data"
    },
    {
     "data": {
      "image/png": "[encoded data removed]",
      "text/plain": [
       "<Figure size 432x288 with 1 Axes>"
      ]
     },
     "metadata": {
      "needs_background": "light"
     },
     "output_type": "display_data"
    }
   ],
   "source": [
    "import scipy.optimize\n",
    "from functools import partial\n",
    "\n",
    "def loss_gradient(X, y, theta):\n",
    "    X_prime = add_column(X)\n",
    "    loss_grad = (X_prime.T).dot((predict(X, theta) - y)) / X.shape[0]\n",
    "    return loss_grad\n",
    "    \n",
    "assert loss_gradient(X, y, theta_init).shape == (2, 1)\n",
    "\n",
    "def finite_diff_grad_check(f, grad, points, eps=1e-10):\n",
    "    errs = []\n",
    "    for point in points:\n",
    "        point_errs = []\n",
    "        grad_func_val = grad(point)\n",
    "        for dim_i in range(point.shape[0]):\n",
    "            diff_v = np.zeros_like(point)\n",
    "            diff_v[dim_i] = eps\n",
    "            dim_grad = (f(point+diff_v) - f(point-diff_v))/(2*eps)\n",
    "            point_errs.append(abs(dim_grad - grad_func_val[dim_i]))\n",
    "        errs.append(point_errs)\n",
    "    return errs\n",
    "\n",
    "test_points = [np.random.rand(2, 1) for _ in range(10)]\n",
    "finite_diff_errs = finite_diff_grad_check(\n",
    "    partial(loss, X, y), partial(loss_gradient, X, y), test_points\n",
    ")\n",
    "\n",
    "print('max grad comp error', np.max(finite_diff_errs))\n",
    "assert np.max(finite_diff_errs) < 1e-3, \"grad computation error is too large\"\n",
    "\n",
    "def run_gd(loss, loss_gradient, X, y, theta_init, lr=0.01, n_iter=1500):\n",
    "    theta_current = theta_init.copy()\n",
    "    loss_values = []\n",
    "    theta_values = []\n",
    "    \n",
    "    for i in range(n_iter):\n",
    "        loss_value = loss(X, y, theta_current)\n",
    "        theta_current = theta_current - lr*loss_gradient(X, y, theta_current)\n",
    "        loss_values.append(loss_value)\n",
    "        theta_values.append(theta_current)\n",
    "        \n",
    "    return theta_current, loss_values, theta_values\n",
    "\n",
    "result = run_gd(loss, loss_gradient, X, y, theta_init)\n",
    "theta_est, loss_values, theta_values = result\n",
    "\n",
    "print('estimated theta value', theta_est.ravel())\n",
    "print('resulting loss', loss(X, y, theta_est))\n",
    "plt.ylabel('loss')\n",
    "plt.xlabel('iter_i')\n",
    "plt.plot(loss_values)\n",
    "plt.show()\n",
    "\n",
    "plt.ylabel('log(loss)')\n",
    "plt.xlabel('iter_i')\n",
    "plt.semilogy(loss_values)\n",
    "plt.show()"
   ]
  },
  {
   "cell_type": "markdown",
   "metadata": {},
   "source": [
    "**2.2.4** **[10pt]** After you are finished, use your final parameters to plot the linear fit. The result should look something like on the figure below. Use the `predict()` function."
   ]
  },
  {
   "cell_type": "code",
   "execution_count": 8,
   "metadata": {
    "jupyter": {
     "outputs_hidden": false
    }
   },
   "outputs": [
    {
     "data": {
      "image/png": "[encoded data removed]",
      "text/plain": [
       "<Figure size 432x288 with 1 Axes>"
      ]
     },
     "metadata": {
      "needs_background": "light"
     },
     "output_type": "display_data"
    }
   ],
   "source": [
    "plt.scatter(X, y, marker='x', color='r', alpha=0.5)\n",
    "x_start, x_end = 5, 25\n",
    "pred = predict(X,theta_est)\n",
    "\n",
    "plt.xlabel('Population in 10\\'000 s')\n",
    "plt.ylabel('Profit in 10\\'000$ s')\n",
    "plt.plot(X,pred)\n",
    "plt.xlim([x_start,x_end])\n",
    "plt.show()"
   ]
  },
  {
   "cell_type": "markdown",
   "metadata": {},
   "source": [
    "Now use your final values for $\\theta$ and the `predict()` function to make predictions on profits in areas of 35,000 and 70,000 people."
   ]
  },
  {
   "cell_type": "code",
   "execution_count": 9,
   "metadata": {
    "jupyter": {
     "outputs_hidden": false
    }
   },
   "outputs": [
    {
     "name": "stdout",
     "output_type": "stream",
     "text": [
      "[[40819.05197031]]\n",
      "[[81641.73423205]]\n"
     ]
    }
   ],
   "source": [
    "x_1 = np.array([[35000]],dtype = float)\n",
    "x_2 = np.array([[70000]],dtype = float)\n",
    "result_1 = predict(x_1,theta_est)\n",
    "result_2 = predict(x_2,theta_est)\n",
    "print(result_1)\n",
    "print(result_2)"
   ]
  },
  {
   "cell_type": "markdown",
   "metadata": {},
   "source": [
    "To understand the cost function better, you will now plot the cost over a 2-dimensional grid of values. You will not need to code anything new for this part, but you should understand how the code you have written already is creating these images."
   ]
  },
  {
   "cell_type": "code",
   "execution_count": 10,
   "metadata": {
    "jupyter": {
     "outputs_hidden": false
    }
   },
   "outputs": [
    {
     "name": "stdout",
     "output_type": "stream",
     "text": [
      "(100, 100) (100, 100) (100, 100)\n"
     ]
    },
    {
     "data": {
      "image/png": "[encoded data removed]",
      "text/plain": [
       "<Figure size 432x288 with 1 Axes>"
      ]
     },
     "metadata": {
      "needs_background": "light"
     },
     "output_type": "display_data"
    },
    {
     "data": {
      "image/png": "[encoded data removed]",
      "text/plain": [
       "<Figure size 432x288 with 1 Axes>"
      ]
     },
     "metadata": {
      "needs_background": "light"
     },
     "output_type": "display_data"
    }
   ],
   "source": [
    "from mpl_toolkits.mplot3d import Axes3D\n",
    "import matplotlib.cm as cm\n",
    "limits = [(-10, 10), (-1, 4)]\n",
    "space = [np.linspace(*limit, 100) for limit in limits]\n",
    "theta_1_grid, theta_2_grid = np.meshgrid(*space)\n",
    "theta_meshgrid = np.vstack([theta_1_grid.ravel(), theta_2_grid.ravel()])\n",
    "loss_test_vals_flat = (((add_column(X) @ theta_meshgrid - y)**2).mean(axis=0)/2)\n",
    "loss_test_vals_grid = loss_test_vals_flat.reshape(theta_1_grid.shape)\n",
    "print(theta_1_grid.shape, theta_2_grid.shape, loss_test_vals_grid.shape)\n",
    "\n",
    "plt.gca(projection='3d').plot_surface(theta_1_grid, theta_2_grid, \n",
    "                                      loss_test_vals_grid, cmap=cm.viridis,\n",
    "                                      linewidth=0, antialiased=False)\n",
    "xs, ys = np.hstack(theta_values).tolist()\n",
    "zs = np.array(loss_values)\n",
    "plt.gca(projection='3d').plot(xs, ys, zs, c='r')\n",
    "plt.xlim(*limits[0])\n",
    "plt.ylim(*limits[1])\n",
    "plt.show()\n",
    "\n",
    "plt.contour(theta_1_grid, theta_2_grid, loss_test_vals_grid, levels=np.logspace(-2, 3, 20))\n",
    "plt.plot(xs, ys)\n",
    "plt.scatter(xs, ys, alpha=0.005)\n",
    "plt.xlim(*limits[0])\n",
    "plt.ylim(*limits[1])\n",
    "plt.show()"
   ]
  },
  {
   "cell_type": "markdown",
   "metadata": {},
   "source": [
    "### 3. Linear regression with multiple input features\n",
    "\n",
    "**3.1** **[20pt]** Copy-paste your `add_column`, `predict`, `loss` and `loss grad` implementations from above and modify your code of linear regression with one variable to support any number of input features (vectorize your code.)"
   ]
  },
  {
   "cell_type": "code",
   "execution_count": 11,
   "metadata": {
    "jupyter": {
     "outputs_hidden": false
    }
   },
   "outputs": [
    {
     "name": "stdout",
     "output_type": "stream",
     "text": [
      "(47, 2) (47, 1) 47\n",
      "[[2.104e+03 3.000e+00]\n",
      " [1.600e+03 3.000e+00]\n",
      " [2.400e+03 3.000e+00]\n",
      " [1.416e+03 2.000e+00]\n",
      " [3.000e+03 4.000e+00]\n",
      " [1.985e+03 4.000e+00]\n",
      " [1.534e+03 3.000e+00]\n",
      " [1.427e+03 3.000e+00]\n",
      " [1.380e+03 3.000e+00]\n",
      " [1.494e+03 3.000e+00]] \n",
      " [[399900.]\n",
      " [329900.]\n",
      " [369000.]\n",
      " [232000.]\n",
      " [539900.]\n",
      " [299900.]\n",
      " [314900.]\n",
      " [198999.]\n",
      " [212000.]\n",
      " [242500.]]\n"
     ]
    }
   ],
   "source": [
    "data = np.loadtxt('ex1data2.txt', delimiter=',')\n",
    "X, y = data[:, :-1], data[:, -1, np.newaxis]\n",
    "n = data.shape[0]\n",
    "print(X.shape, y.shape, n)\n",
    "print(X[:10], '\\n', y[:10])"
   ]
  },
  {
   "cell_type": "code",
   "execution_count": 12,
   "metadata": {
    "jupyter": {
     "outputs_hidden": false
    }
   },
   "outputs": [
    {
     "data": {
      "image/png": "[encoded data removed]",
      "text/plain": [
       "<Figure size 432x288 with 1 Axes>"
      ]
     },
     "metadata": {
      "needs_background": "light"
     },
     "output_type": "display_data"
    }
   ],
   "source": [
    "#raise NotImplementedError(\"Implement new add_column(), predict(), loss(), loss_gradient() here for multivariate regression\")\n",
    "def add_column(X):\n",
    "    assert len(X.shape) == 2 \n",
    "    I = np.ones((X.shape[0],1), dtype = float)\n",
    "    X = np.insert(X, [0], I, axis=1)\n",
    "    return X\n",
    "\n",
    "def predict(X, theta):\n",
    "    \"\"\" Computes h(x; theta) \"\"\"\n",
    "    X_prime = add_column(X)\n",
    "    pred = X_prime.dot(theta)\n",
    "    \n",
    "    return pred\n",
    "\n",
    "def loss_gradient(X, y, theta):\n",
    "    X_prime = add_column(X)\n",
    "    loss_grad = (X_prime.T).dot((predict(X, theta) - y)) / X.shape[0]\n",
    "    return loss_grad\n",
    "    \n",
    "def loss(X, y, theta):\n",
    "    \n",
    "    X_prime = add_column(X)\n",
    "    loss = (X_prime.dot(theta) - y).T.dot((X_prime.dot(theta) - y))/(2*n)\n",
    "    return loss[0][0]\n",
    "\n",
    "def run_gd(loss, loss_gradient, X, y, theta_init, lr=0.01, n_iter=1500):\n",
    "    theta_current = theta_init.copy()\n",
    "    loss_values = []\n",
    "    theta_values = []\n",
    "    \n",
    "    for i in range(n_iter):\n",
    "        loss_value = loss(X, y, theta_current)\n",
    "        theta_current = theta_current - lr*loss_gradient(X, y, theta_current)\n",
    "        loss_values.append(loss_value)\n",
    "        theta_values.append(theta_current)\n",
    "        \n",
    "    return theta_current, loss_values, theta_values\n",
    "\n",
    "theta_init = np.zeros((3, 1))\n",
    "result = run_gd(loss, loss_gradient, X, y, theta_init, n_iter=10000, lr=1e-10)\n",
    "theta_est, loss_values, theta_values = result\n",
    "plt.plot(loss_values)\n",
    "plt.show()"
   ]
  },
  {
   "cell_type": "markdown",
   "metadata": {},
   "source": [
    "**3.2** **[20pt]** Draw a histogam of values for the first and second feature. Why is feature normalization important? Normalize features and re-run the gradient decent. Compare loss plots that you get with and without feature normalization."
   ]
  },
  {
   "cell_type": "code",
   "execution_count": 13,
   "metadata": {
    "jupyter": {
     "outputs_hidden": false
    }
   },
   "outputs": [
    {
     "data": {
      "image/png": "[encoded data removed]",
      "text/plain": [
       "<Figure size 432x288 with 1 Axes>"
      ]
     },
     "metadata": {
      "needs_background": "light"
     },
     "output_type": "display_data"
    },
    {
     "data": {
      "image/png": "[encoded data removed]",
      "text/plain": [
       "<Figure size 432x288 with 1 Axes>"
      ]
     },
     "metadata": {
      "needs_background": "light"
     },
     "output_type": "display_data"
    }
   ],
   "source": [
    "plt.hist(X[:,0],bins = 30,facecolor='green')\n",
    "plt.show()\n",
    "\n",
    "plt.hist(X[:,1],facecolor='green')\n",
    "plt.show()"
   ]
  },
  {
   "cell_type": "markdown",
   "metadata": {
    "jupyter": {
     "outputs_hidden": false
    }
   },
   "source": [
    "theta_init = np.zeros((3, 1))\n",
    "X_normed = preprocessing.scale(X)\n",
    "result = run_gd(loss, loss_gradient, X_normed, y, theta_init, n_iter=10000, lr=1e-3)\n",
    "theta_est, loss_values, theta_values = result\n",
    "plt.plot(loss_values)\n",
    "plt.show()"
   ]
  },
  {
   "cell_type": "raw",
   "metadata": {},
   "source": [
    "Feature normalization can reduce the distance between initial value and the minimum, so that the model will converge\n",
    "more quickly than the non-normalized case, as we can see in the loss value graph. "
   ]
  },
  {
   "cell_type": "markdown",
   "metadata": {},
   "source": [
    "**3.3 [10pt]** How can we choose an appropriate learning rate? See what will happen if the learning rate is too small or too large for normalized and not normalized cases?"
   ]
  },
  {
   "cell_type": "code",
   "execution_count": 14,
   "metadata": {},
   "outputs": [
    {
     "data": {
      "image/png": "[encoded data removed]",
      "text/plain": [
       "<Figure size 432x288 with 1 Axes>"
      ]
     },
     "metadata": {
      "needs_background": "light"
     },
     "output_type": "display_data"
    },
    {
     "data": {
      "image/png": "[encoded data removed]",
      "text/plain": [
       "<Figure size 432x288 with 1 Axes>"
      ]
     },
     "metadata": {
      "needs_background": "light"
     },
     "output_type": "display_data"
    },
    {
     "ename": "NameError",
     "evalue": "name 'X_normed' is not defined",
     "output_type": "error",
     "traceback": [
      "\u001b[0;31m---------------------------------------------------------------------------\u001b[0m",
      "\u001b[0;31mNameError\u001b[0m                                 Traceback (most recent call last)",
      "\u001b[0;32m<ipython-input-14-53c92137666a>\u001b[0m in \u001b[0;36m<module>\u001b[0;34m\u001b[0m\n\u001b[1;32m     12\u001b[0m \u001b[0;34m\u001b[0m\u001b[0m\n\u001b[1;32m     13\u001b[0m \u001b[0;31m#Comparison between big learning rate and small learning rate in normoalized case\")\u001b[0m\u001b[0;34m\u001b[0m\u001b[0;34m\u001b[0m\u001b[0;34m\u001b[0m\u001b[0m\n\u001b[0;32m---> 14\u001b[0;31m \u001b[0mnormed_big_result\u001b[0m \u001b[0;34m=\u001b[0m \u001b[0mrun_gd\u001b[0m\u001b[0;34m(\u001b[0m\u001b[0mloss\u001b[0m\u001b[0;34m,\u001b[0m \u001b[0mloss_gradient\u001b[0m\u001b[0;34m,\u001b[0m \u001b[0mX_normed\u001b[0m\u001b[0;34m,\u001b[0m \u001b[0my\u001b[0m\u001b[0;34m,\u001b[0m \u001b[0mtheta_init\u001b[0m\u001b[0;34m,\u001b[0m \u001b[0mn_iter\u001b[0m\u001b[0;34m=\u001b[0m\u001b[0;36m10000\u001b[0m\u001b[0;34m,\u001b[0m \u001b[0mlr\u001b[0m\u001b[0;34m=\u001b[0m\u001b[0;36m1e-07\u001b[0m\u001b[0;34m)\u001b[0m\u001b[0;34m\u001b[0m\u001b[0;34m\u001b[0m\u001b[0m\n\u001b[0m\u001b[1;32m     15\u001b[0m \u001b[0mnormed_big_theta_est\u001b[0m\u001b[0;34m,\u001b[0m \u001b[0mnormed_big_loss_values\u001b[0m\u001b[0;34m,\u001b[0m \u001b[0mnormed_big_theta_values\u001b[0m \u001b[0;34m=\u001b[0m \u001b[0mnormed_big_result\u001b[0m\u001b[0;34m\u001b[0m\u001b[0;34m\u001b[0m\u001b[0m\n\u001b[1;32m     16\u001b[0m \u001b[0mnormed_small_result\u001b[0m \u001b[0;34m=\u001b[0m \u001b[0mrun_gd\u001b[0m\u001b[0;34m(\u001b[0m\u001b[0mloss\u001b[0m\u001b[0;34m,\u001b[0m \u001b[0mloss_gradient\u001b[0m\u001b[0;34m,\u001b[0m \u001b[0mX_normed\u001b[0m\u001b[0;34m,\u001b[0m \u001b[0my\u001b[0m\u001b[0;34m,\u001b[0m \u001b[0mtheta_init\u001b[0m\u001b[0;34m,\u001b[0m \u001b[0mn_iter\u001b[0m\u001b[0;34m=\u001b[0m\u001b[0;36m10000\u001b[0m\u001b[0;34m,\u001b[0m \u001b[0mlr\u001b[0m\u001b[0;34m=\u001b[0m\u001b[0;36m1e-13\u001b[0m\u001b[0;34m)\u001b[0m\u001b[0;34m\u001b[0m\u001b[0;34m\u001b[0m\u001b[0m\n",
      "\u001b[0;31mNameError\u001b[0m: name 'X_normed' is not defined"
     ]
    }
   ],
   "source": [
    "#Comparison between big learning rate and small learning rate in not normoalized case\")\n",
    "big_result = run_gd(loss, loss_gradient, X, y, theta_init, n_iter=10000, lr=1e-09)\n",
    "big_theta_est, big_loss_values, big_theta_values = big_result\n",
    "small_result = run_gd(loss, loss_gradient, X, y, theta_init, n_iter=10000, lr=1e-11)\n",
    "small_theta_est, small_loss_values, small_theta_values = small_result\n",
    "plt.plot(small_loss_values)\n",
    "plt.title('small learning rate for not normed case')\n",
    "plt.show()\n",
    "plt.plot(big_loss_values)\n",
    "plt.title('big learning rate for not normed case')\n",
    "plt.show()\n",
    "\n",
    "#Comparison between big learning rate and small learning rate in normoalized case\")\n",
    "normed_big_result = run_gd(loss, loss_gradient, X_normed, y, theta_init, n_iter=10000, lr=1e-07)\n",
    "normed_big_theta_est, normed_big_loss_values, normed_big_theta_values = normed_big_result\n",
    "normed_small_result = run_gd(loss, loss_gradient, X_normed, y, theta_init, n_iter=10000, lr=1e-13)\n",
    "normed_small_theta_est, normed_small_loss_values, normed_small_theta_values = normed_small_result\n",
    "plt.plot(normed_small_loss_values)\n",
    "plt.title('small learning rate for normed case')\n",
    "plt.show()\n",
    "plt.plot(normed_big_loss_values)\n",
    "plt.title('big learning rate for normed case')\n",
    "plt.show()"
   ]
  },
  {
   "cell_type": "raw",
   "metadata": {},
   "source": [
    "In non-normalized cases, the learning rate relates to the converge rate. Small learning rate will slower the converging process, while big learning rate will accelerate the converging process.\n",
    "In normalized cases, the effect on converge process when the learning rate is too big or too small is not obvious."
   ]
  },
  {
   "cell_type": "markdown",
   "metadata": {},
   "source": [
    "### 4. Written part\n",
    "\n",
    "These problems are extremely important preparation for the exam. Submit solutions to each problem by filling the markdown cells below.\n",
    "\n",
    "**4.1 [10 pt]** Maximum Likelihood Estimate for Coin Toss\n",
    "\n",
    "The probability distribution of a single binary variable  that takes value  with probability  is given by the Bernoulli distribution\n",
    "\n",
    "$$ \\operatorname{Bern}(x|\\mu) = \\mu^x (1-\\mu)^{1-x}$$\n",
    "\n",
    "For example, we can use it to model the probability of seeing ‘heads’ ($x=1$) or ‘tails’ ($x=0$) after tossing a coin, with $\\mu$ being the probability of seeing ‘heads’. Suppose we have a dataset of independent coin flips $D = \\{ x^{(1)} , \\dots, x^{(m)} \\}$ and we would like to estimate $\\mu$ using Maximum Likelihood. Recall that we can write down the likelihood function as\n",
    "\n",
    "$$\\mathcal L (x^{(i)}|\\mu) = \\mu^{x^{(i)}} (1-\\mu)^{1-{x^{(i)}}}$$\n",
    "\n",
    "$$ P(D|\\mu) = \\prod_i \\mathcal L (x^{(i)}|\\mu)$$\n",
    "\n",
    "The log of the likelihood function is\n",
    "\n",
    "$$ \\ln P(D|\\mu) = \\sum_i x^{(i)} \\ln \\mu + (1-x^{(i)})\\ln(1-\\mu)$$\n",
    "\n",
    "Show that the ML solution for $\\mu$ is given by  $\\mu_{ML} = \\frac{h}{m}$  where $h$ is the total number of ‘heads’ in the dataset. Show all of your steps."
   ]
  },
  {
   "cell_type": "markdown",
   "metadata": {},
   "source": [
    "**Solution** \n",
    "\n",
    "Given that h is the total number of 'heads' in the dataset, (m-h) is the total number of 'tails' in the dataset.\n",
    "$$\n",
    "\\ln P(D|\\mu) = \\sum_i x^{(i)} \\ln \\mu + (1-x^{(i)})\\ln(1-\\mu) = h \\ln \\mu + (m - h)\\ln(1-\\mu)\n",
    "$$\n",
    "Differentiate with $\\mu$:\n",
    "$$\n",
    "\\frac{\\partial}{\\partial \\mu}\\ln P(D|\\mu) = \\frac{h}{\\mu} - \\frac{m-h}{1-\\mu} \\\\ = \\frac{h - \\mu m}{\\mu(1 - \\mu)}\n",
    "$$\n",
    "Since $\\mu \\in (0,1)$, when $\\mu \\in (0, \\frac{h}{m})$, we have $\\frac{\\partial}{\\partial \\mu}\\ln P(D|\\mu) > 0$. When $\\mu \\in (\\frac{h}{m},1)$, we have $\\frac{\\partial}{\\partial \\mu}\\ln P(D|\\mu) < 0$. \n",
    "\n",
    "Therefore, when $\\mu_{ML} = \\frac{h}{m}$, the likelihood function is maximized, which means the ML solution for $\\mu$ is given by $\\mu_{ML} = \\frac{h}{m}$."
   ]
  },
  {
   "cell_type": "markdown",
   "metadata": {},
   "source": [
    "**4.2 [10 pt]** Localized linear regression\n",
    "\n",
    "Suppose we want to estimate localized linear regression by weighting the contribution of the data points by their distance to the query point $x_q$, i.e. using the cost\n",
    "\n",
    "$$ E(x_q) = \\frac{1}{2}\\sum_i^m \\frac{(y^{(i)}-h(x^{(i)}|\\theta))^2}{|| x^{(i)} - x_q ||^2}$$\n",
    "\n",
    "where $\\frac{1}{|| x^{(i)} - x_q ||^2} = w^{(i)}$ is the inverse Euclidean distance between the training point $x^{(i)}$ and query (test) point $x_q$.\n",
    "\n",
    "Derive the modified normal equations for the above cost function $E(x_q)$. Hint: first, re-write the cost function in matrix/vector notation, using a diagonal matrix to represent the weights $w^{(i)}$."
   ]
  },
  {
   "cell_type": "markdown",
   "metadata": {},
   "source": [
    "**your solution**\n",
    "\n",
    "Given that $w^{(i)} = \\frac{1}{|| x^{(i)} - x_q ||^2}$, $E(x_q) = \\frac{1}{2}  \\sum_{i=1}^m w^{(i)}(y^{(i)}-h(x^{(i)}|\\theta))^2 $.\n",
    "\n",
    "We have:\n",
    "\t$$\n",
    "\tE(x_q) = \n",
    "    \\begin{bmatrix}\n",
    "\th(x^{(1)}|\\theta) - y^{(1)}   \\\\\n",
    "\th(x^{(2)}|\\theta) - y^{(2)}   \\\\\n",
    "\t\\vdots  \\\\\n",
    "\th(x^{(m)}|\\theta) - y^{(m)}   \\\\\n",
    "\t\\end{bmatrix}^T\n",
    "    \\begin{bmatrix}\n",
    "\t\\frac{1}{2}w^{(1)} & 0  & \\cdots &  0   \\\\\n",
    "\t0 & \\frac{1}{2}w^{(2)}  & \\cdots &  0  \\\\\n",
    "\t\\vdots & \\vdots  & \\ddots   & \\vdots  \\\\\n",
    "\t0 & 0  & \\cdots\\  & \\frac{1}{2}w^{(m)}  \\\\\n",
    "\t\\end{bmatrix}\n",
    "    \\begin{bmatrix}\n",
    "\th(x^{(1)}|\\theta) - y^{(1)}   \\\\\n",
    "\th(x^{(2)}|\\theta) - y^{(2)}   \\\\\n",
    "\t\\vdots  \\\\\n",
    "\th(x^{(m)}|\\theta) - y^{(m)}   \\\\\n",
    "\t\\end{bmatrix}\n",
    "\t$$\n",
    "    \n",
    "And the weight can be represented as:\n",
    "    $$\n",
    "    W = \\begin{bmatrix}\n",
    "\t\\frac{1}{2}w^{(1)} & 0  & \\cdots &  0   \\\\\n",
    "\t0 & \\frac{1}{2}w^{(2)}  & \\cdots &  0  \\\\\n",
    "\t\\vdots & \\vdots  & \\ddots   & \\vdots  \\\\\n",
    "\t0 & 0  & \\cdots\\  & \\frac{1}{2}w^{(m)}  \\\\\n",
    "\t\\end{bmatrix}\n",
    "    $$\n",
    "Therefore, we can rewrite the cost function as:\n",
    "$$\n",
    "E(X) = (X\\theta - y)^T (W) (X\\theta - y) \\\\ \n",
    "= W(\\theta^T X^T X \\theta - ) - \\theta^T X^T Y - (\\theta^T X^T Y)^T + y^T y)\n",
    "$$\n",
    "\n",
    "Take dirivative with respect to $\\theta$, setting it to 0 to get the minimum:\n",
    "\n",
    "$$\n",
    "\\frac{\\partial}{\\partial \\theta}E(X) = X^T X \\theta - X^T y = 0\n",
    "$$\n",
    "\n",
    "Therefore, we have:\n",
    "\n",
    "$$\n",
    "\\theta = (X^T X)^{-1}X^T y\n",
    "$$"
   ]
  },
  {
   "cell_type": "markdown",
   "metadata": {},
   "source": [
    "**4.3 [10 pt]** Betting on Trick Coins\n",
    "\n",
    "A game is played with three coins in a jar: one is a normal coin, one has “heads” on both sides, one has “tails” on both sides. All coins are “fair”, i.e. have equal probability of landing on either side. Suppose one coin is picked randomly from the jar and tossed, and lands with “heads” on top. What is the probability that the bottom side is also “heads”? Show all your steps. "
   ]
  },
  {
   "cell_type": "markdown",
   "metadata": {},
   "source": [
    "**solution**\n",
    "\n",
    "Define event X as \"The coin with 'heads' on both sides is picked\".\n",
    "\n",
    "Define event Y as \"Pick randomly from the jar and toss, land with 'heads' on top\".\n",
    "\n",
    "According to the Bayesian rule:\n",
    "$$\n",
    "P(X | Y) = \\frac{P(Y | X)P(X)}{P(Y)}\n",
    "$$\n",
    "It can be derived that: $ P(X | Y) = 1 $, $ P(X) = \\frac{1}{3} $, $P(Y) = \\frac{1}{3}*\\frac{1}{2} + \\frac{1}{3}*1 = \\frac{1}{2}$. \n",
    "\n",
    "Therefore, we have:\n",
    "$$\n",
    "P(X | Y) = \\frac{P(Y | X)P(X)}{P(Y)} = \\frac{1 * \\frac{1}{3}}{\\frac{1}{2}} = \\frac{2}{3}\n",
    "$$"
   ]
  }
 ],
 "metadata": {
  "anaconda-cloud": {},
  "kernelspec": {
   "display_name": "Python 3",
   "language": "python",
   "name": "python3"
  },
  "language_info": {
   "codemirror_mode": {
    "name": "ipython",
    "version": 3
   },
   "file_extension": ".py",
   "mimetype": "text/x-python",
   "name": "python",
   "nbconvert_exporter": "python",
   "pygments_lexer": "ipython3",
   "version": "3.8.8"
  }
 },
 "nbformat": 4,
 "nbformat_minor": 4
}
